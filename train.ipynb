{
 "cells": [
  {
   "cell_type": "code",
   "execution_count": 5,
   "metadata": {},
   "outputs": [],
   "source": [
    "import torch\n",
    "import torch.nn as nn\n",
    "import torch.nn.functional as F\n",
    "import torch.optim as optim\n",
    "import numpy as np\n",
    "import matplotlib.pyplot as plt\n",
    "import torchvision\n",
    "from torch.utils.data import TensorDataset, DataLoader\n",
    "from torch.nn import *\n",
    "from torch.nn.functional import relu\n",
    "\n",
    "class Model(Module):\n",
    "    def __init__(self, in_channels, n_classes):\n",
    "        super(Model, self).__init__()\n",
    "        self.conv1 = Conv2d(in_channels=in_channels, out_channels=16, kernel_size=3, padding=1)\n",
    "        self.maxpool1 = MaxPool2d((2,2))\n",
    "        self.conv2 = Conv2d(in_channels=16, out_channels=32, kernel_size=5, padding=2)\n",
    "        self.maxpool2 = MaxPool2d((2,2))\n",
    "        self.tconv1 = ConvTranspose2d(in_channels=32, out_channels=16, stride=2, kernel_size=5, padding=2, output_padding=1)\n",
    "        self.tconv2 = ConvTranspose2d(in_channels=16, out_channels=n_classes, stride=2, kernel_size=3, padding=1, output_padding=1)\n",
    "\n",
    "    def forward(self, x):\n",
    "        out = relu(self.conv1(x))\n",
    "        out = self.maxpool1(out)\n",
    "        out = relu(self.conv2(out))\n",
    "        out = self.maxpool2(out)\n",
    "        out = relu(self.tconv1(out))\n",
    "        out = self.tconv2(out)\n",
    "        \n",
    "        return out\n",
    "\n",
    "# Training\n",
    "BATCH_SIZE = 16\n",
    "EPOCHS = 15\n",
    "N_CLASSES = 5\n",
    "N_CHANNELS = 6\n",
    "\n",
    "train_X = torch.tensor(np.load('data/processed/train_input.npy').transpose(0,3,1,2)).float()\n",
    "train_Y = torch.tensor(np.load('data/processed/train_labels.npy')).long()\n",
    "test_X = torch.tensor(np.load('data/processed/test_input.npy').transpose(0,3,1,2)).float()\n",
    "test_Y = torch.tensor(np.load('data/processed/test_labels.npy')).long()\n",
    "\n",
    "# model = torchvision.models.segmentation.fcn_resnet50(num_classes=N_CLASSES)\n",
    "model = Model(in_channels=N_CHANNELS, n_classes=N_CLASSES)\n",
    "criterion = CrossEntropyLoss(ignore_index=0) # Ignore all pixels that are outside of shapefile(mark as 0 in the target image)\n",
    "optimizer = optim.Adam(model.parameters(), lr=0.001)"
   ]
  },
  {
   "cell_type": "code",
   "execution_count": 6,
   "metadata": {},
   "outputs": [
    {
     "data": {
      "image/png": "[encoded data removed]",
      "text/plain": [
       "<Figure size 432x288 with 1 Axes>"
      ]
     },
     "metadata": {
      "needs_background": "light"
     },
     "output_type": "display_data"
    }
   ],
   "source": [
    "train_set = TensorDataset(train_X, train_Y)\n",
    "train_loader = DataLoader(train_set, batch_size=BATCH_SIZE, shuffle=True)\n",
    "ep_losses = []\n",
    "\n",
    "for ep in range(EPOCHS):\n",
    "    ep_loss = 0.\n",
    "    for x, y in train_loader:\n",
    "        optimizer.zero_grad()\n",
    "        predict = model(x)\n",
    "        loss = criterion(predict, y)\n",
    "        loss.backward()\n",
    "        optimizer.step()\n",
    "        ep_loss += loss.item()\n",
    "    ep_losses.append(ep_loss)\n",
    "\n",
    "plt.plot(range(EPOCHS), ep_losses)\n",
    "plt.xlabel('Epoch')\n",
    "plt.ylabel('Loss')\n",
    "\n",
    "torch.save(model, 'data/output/model.pth')"
   ]
  },
  {
   "cell_type": "code",
   "execution_count": 8,
   "metadata": {},
   "outputs": [
    {
     "name": "stdout",
     "output_type": "stream",
     "text": [
      "Test loss : 22.529547333717346\n"
     ]
    }
   ],
   "source": [
    "model.eval()\n",
    "test_set = TensorDataset(test_X, test_Y)\n",
    "test_loader = DataLoader(test_set, batch_size=BATCH_SIZE, shuffle=True)\n",
    "\n",
    "test_loss = 0.\n",
    "for x, y in test_loader:\n",
    "    predict = model(x)\n",
    "    loss = criterion(predict, y)\n",
    "    test_loss += loss.item()\n",
    "\n",
    "print(f'Test loss : {test_loss}')"
   ]
  },
  {
   "cell_type": "code",
   "execution_count": 9,
   "metadata": {},
   "outputs": [
    {
     "data": {
      "image/png": "[encoded data removed]",
      "text/plain": [
       "<Figure size 576x288 with 2 Axes>"
      ]
     },
     "metadata": {
      "needs_background": "light"
     },
     "output_type": "display_data"
    },
    {
     "data": {
      "image/png": "[encoded data removed]",
      "text/plain": [
       "<Figure size 576x288 with 2 Axes>"
      ]
     },
     "metadata": {
      "needs_background": "light"
     },
     "output_type": "display_data"
    },
    {
     "data": {
      "image/png": "[encoded data removed]",
      "text/plain": [
       "<Figure size 576x288 with 2 Axes>"
      ]
     },
     "metadata": {
      "needs_background": "light"
     },
     "output_type": "display_data"
    },
    {
     "data": {
      "image/png": "[encoded data removed]",
      "text/plain": [
       "<Figure size 576x288 with 2 Axes>"
      ]
     },
     "metadata": {
      "needs_background": "light"
     },
     "output_type": "display_data"
    },
    {
     "data": {
      "image/png": "[encoded data removed]",
      "text/plain": [
       "<Figure size 576x288 with 2 Axes>"
      ]
     },
     "metadata": {
      "needs_background": "light"
     },
     "output_type": "display_data"
    }
   ],
   "source": [
    "test_samples, test_labels = next(iter(test_loader))\n",
    "test_predicts = model(test_samples).argmax(dim=1) * (test_labels != 0).int()\n",
    "\n",
    "color_map = {0: np.array([255, 255, 255]), # Unknown, white\n",
    "             1: np.array([255, 0, 0]),     # Cassava, red\n",
    "             2: np.array([0, 255, 0]),     # Maize, green\n",
    "             3: np.array([0, 0, 255]),     # Rice, blue \n",
    "             4: np.array([255, 255, 0])}   # Sugarcane, yellow\n",
    "\n",
    "def assign_class_color(class_map):\n",
    "    output = np.zeros((class_map.shape[0], class_map.shape[1], 3), dtype=int)\n",
    "    for i in range(class_map.shape[0]):\n",
    "        for j in range(class_map.shape[1]):\n",
    "            output[i][j] = color_map[class_map[i][j]]\n",
    "\n",
    "    return output\n",
    "\n",
    "for i in range(5):\n",
    "    plt.figure(figsize=(8,4))\n",
    "    plt.subplot(121)\n",
    "    plt.imshow(assign_class_color(test_predicts[i].detach().numpy()))\n",
    "    plt.axis('off')\n",
    "    plt.title('Predict')\n",
    "    plt.subplot(122)\n",
    "    plt.imshow(assign_class_color(test_labels[i].detach().numpy()))\n",
    "    plt.axis('off')\n",
    "    plt.title('Actual')"
   ]
  },
  {
   "cell_type": "code",
   "execution_count": null,
   "metadata": {},
   "outputs": [],
   "source": []
  }
 ],
 "metadata": {
  "interpreter": {
   "hash": "69c5d00b73df9abbe53b7f87f6066c99952243d86223df351c8bfce8617ca64b"
  },
  "kernelspec": {
   "display_name": "Python 3.7.13 ('land-classification-dl-tutorial')",
   "language": "python",
   "name": "python3"
  },
  "language_info": {
   "codemirror_mode": {
    "name": "ipython",
    "version": 3
   },
   "file_extension": ".py",
   "mimetype": "text/x-python",
   "name": "python",
   "nbconvert_exporter": "python",
   "pygments_lexer": "ipython3",
   "version": "3.7.13"
  },
  "orig_nbformat": 4
 },
 "nbformat": 4,
 "nbformat_minor": 2
}
